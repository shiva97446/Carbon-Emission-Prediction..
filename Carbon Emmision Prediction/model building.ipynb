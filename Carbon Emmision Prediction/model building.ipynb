{
 "cells": [
  {
   "cell_type": "code",
   "execution_count": 1,
   "id": "0e8d3ed9",
   "metadata": {
    "vscode": {
     "languageId": "markdown"
    }
   },
   "outputs": [
    {
     "name": "stdout",
     "output_type": "stream",
     "text": [
      "Defaulting to user installation because normal site-packages is not writeable\n",
      "Requirement already satisfied: scikit-learn in c:\\users\\santpal\\appdata\\roaming\\python\\python310\\site-packages (1.7.0)\n",
      "Requirement already satisfied: numpy>=1.22.0 in c:\\users\\santpal\\appdata\\roaming\\python\\python310\\site-packages (from scikit-learn) (2.2.6)\n",
      "Requirement already satisfied: scipy>=1.8.0 in c:\\users\\santpal\\appdata\\roaming\\python\\python310\\site-packages (from scikit-learn) (1.15.3)\n",
      "Requirement already satisfied: joblib>=1.2.0 in c:\\users\\santpal\\appdata\\roaming\\python\\python310\\site-packages (from scikit-learn) (1.5.1)\n",
      "Requirement already satisfied: threadpoolctl>=3.1.0 in c:\\users\\santpal\\appdata\\roaming\\python\\python310\\site-packages (from scikit-learn) (3.6.0)\n"
     ]
    }
   ],
   "source": [
    "!pip install scikit-learn"
   ]
  },
  {
   "cell_type": "code",
   "execution_count": 2,
   "id": "6fae5faa",
   "metadata": {
    "vscode": {
     "languageId": "markdown"
    }
   },
   "outputs": [],
   "source": [
    "import pandas as pd\n",
    "import numpy as np\n",
    "import matplotlib.pyplot as plt\n",
    "import sklearn.model_selection as ms\n",
    "from sklearn.model_selection import cross_val_score, train_test_split\n",
    "from sklearn.ensemble import RandomForestRegressor\n",
    "from sklearn.metrics import r2_score, mean_squared_error\n",
    "from sklearn import feature_selection as fs\n",
    "import numpy.random as nr"
   ]
  },
  {
   "cell_type": "code",
   "execution_count": 3,
   "id": "10ee3be0",
   "metadata": {
    "vscode": {
     "languageId": "markdown"
    }
   },
   "outputs": [
    {
     "data": {
      "text/html": [
       "<div>\n",
       "<style scoped>\n",
       "    .dataframe tbody tr th:only-of-type {\n",
       "        vertical-align: middle;\n",
       "    }\n",
       "\n",
       "    .dataframe tbody tr th {\n",
       "        vertical-align: top;\n",
       "    }\n",
       "\n",
       "    .dataframe thead th {\n",
       "        text-align: right;\n",
       "    }\n",
       "</style>\n",
       "<table border=\"1\" class=\"dataframe\">\n",
       "  <thead>\n",
       "    <tr style=\"text-align: right;\">\n",
       "      <th></th>\n",
       "      <th>country</th>\n",
       "      <th>year</th>\n",
       "      <th>cereal_yield</th>\n",
       "      <th>fdi_perc_gdp</th>\n",
       "      <th>en_per_gdp</th>\n",
       "      <th>en_per_cap</th>\n",
       "      <th>co2_ttl</th>\n",
       "      <th>co2_per_cap</th>\n",
       "      <th>co2_per_gdp</th>\n",
       "      <th>pop_urb_aggl_perc</th>\n",
       "      <th>prot_area_perc</th>\n",
       "      <th>gdp</th>\n",
       "      <th>gni_per_cap</th>\n",
       "      <th>under_5_mort_rate</th>\n",
       "      <th>pop_growth_perc</th>\n",
       "      <th>pop</th>\n",
       "      <th>urb_pop_growth_perc</th>\n",
       "      <th>urb_pop</th>\n",
       "    </tr>\n",
       "  </thead>\n",
       "  <tbody>\n",
       "    <tr>\n",
       "      <th>0</th>\n",
       "      <td>AGO</td>\n",
       "      <td>1991</td>\n",
       "      <td>417.4</td>\n",
       "      <td>5.449515</td>\n",
       "      <td>179.271884</td>\n",
       "      <td>565.451027</td>\n",
       "      <td>4367.397</td>\n",
       "      <td>0.409949</td>\n",
       "      <td>129.971142</td>\n",
       "      <td>15.290728</td>\n",
       "      <td>12.399822</td>\n",
       "      <td>1.219375e+10</td>\n",
       "      <td>820.0</td>\n",
       "      <td>239.1</td>\n",
       "      <td>3.034866</td>\n",
       "      <td>10653515.0</td>\n",
       "      <td>6.687032</td>\n",
       "      <td>4099472.572</td>\n",
       "    </tr>\n",
       "    <tr>\n",
       "      <th>1</th>\n",
       "      <td>AGO</td>\n",
       "      <td>1992</td>\n",
       "      <td>397.0</td>\n",
       "      <td>4.982460</td>\n",
       "      <td>193.632183</td>\n",
       "      <td>550.548264</td>\n",
       "      <td>4418.735</td>\n",
       "      <td>0.401597</td>\n",
       "      <td>141.244823</td>\n",
       "      <td>15.660630</td>\n",
       "      <td>12.399823</td>\n",
       "      <td>5.779394e+09</td>\n",
       "      <td>470.0</td>\n",
       "      <td>235.3</td>\n",
       "      <td>3.226990</td>\n",
       "      <td>11002910.0</td>\n",
       "      <td>6.750459</td>\n",
       "      <td>4385759.926</td>\n",
       "    </tr>\n",
       "    <tr>\n",
       "      <th>2</th>\n",
       "      <td>AGO</td>\n",
       "      <td>1993</td>\n",
       "      <td>267.8</td>\n",
       "      <td>5.715529</td>\n",
       "      <td>266.318379</td>\n",
       "      <td>551.688878</td>\n",
       "      <td>5801.194</td>\n",
       "      <td>0.510141</td>\n",
       "      <td>246.261769</td>\n",
       "      <td>16.025739</td>\n",
       "      <td>12.399823</td>\n",
       "      <td>5.285600e+09</td>\n",
       "      <td>310.0</td>\n",
       "      <td>231.1</td>\n",
       "      <td>3.297243</td>\n",
       "      <td>11371750.0</td>\n",
       "      <td>6.700777</td>\n",
       "      <td>4689709.700</td>\n",
       "    </tr>\n",
       "    <tr>\n",
       "      <th>3</th>\n",
       "      <td>AGO</td>\n",
       "      <td>1994</td>\n",
       "      <td>298.4</td>\n",
       "      <td>4.195018</td>\n",
       "      <td>260.830190</td>\n",
       "      <td>541.553067</td>\n",
       "      <td>3890.687</td>\n",
       "      <td>0.331321</td>\n",
       "      <td>159.575256</td>\n",
       "      <td>16.065941</td>\n",
       "      <td>12.399824</td>\n",
       "      <td>4.059577e+09</td>\n",
       "      <td>190.0</td>\n",
       "      <td>226.3</td>\n",
       "      <td>3.212170</td>\n",
       "      <td>11742960.0</td>\n",
       "      <td>6.503667</td>\n",
       "      <td>5004849.552</td>\n",
       "    </tr>\n",
       "    <tr>\n",
       "      <th>4</th>\n",
       "      <td>AGO</td>\n",
       "      <td>1995</td>\n",
       "      <td>402.2</td>\n",
       "      <td>9.374417</td>\n",
       "      <td>237.623934</td>\n",
       "      <td>528.386164</td>\n",
       "      <td>11012.001</td>\n",
       "      <td>0.909699</td>\n",
       "      <td>409.106543</td>\n",
       "      <td>16.134424</td>\n",
       "      <td>12.399825</td>\n",
       "      <td>5.039535e+09</td>\n",
       "      <td>320.0</td>\n",
       "      <td>221.5</td>\n",
       "      <td>3.037335</td>\n",
       "      <td>12105105.0</td>\n",
       "      <td>6.223936</td>\n",
       "      <td>5326246.200</td>\n",
       "    </tr>\n",
       "  </tbody>\n",
       "</table>\n",
       "</div>"
      ],
      "text/plain": [
       "  country  year  cereal_yield  fdi_perc_gdp  en_per_gdp  en_per_cap  \\\n",
       "0     AGO  1991         417.4      5.449515  179.271884  565.451027   \n",
       "1     AGO  1992         397.0      4.982460  193.632183  550.548264   \n",
       "2     AGO  1993         267.8      5.715529  266.318379  551.688878   \n",
       "3     AGO  1994         298.4      4.195018  260.830190  541.553067   \n",
       "4     AGO  1995         402.2      9.374417  237.623934  528.386164   \n",
       "\n",
       "     co2_ttl  co2_per_cap  co2_per_gdp  pop_urb_aggl_perc  prot_area_perc  \\\n",
       "0   4367.397     0.409949   129.971142          15.290728       12.399822   \n",
       "1   4418.735     0.401597   141.244823          15.660630       12.399823   \n",
       "2   5801.194     0.510141   246.261769          16.025739       12.399823   \n",
       "3   3890.687     0.331321   159.575256          16.065941       12.399824   \n",
       "4  11012.001     0.909699   409.106543          16.134424       12.399825   \n",
       "\n",
       "            gdp  gni_per_cap  under_5_mort_rate  pop_growth_perc         pop  \\\n",
       "0  1.219375e+10        820.0              239.1         3.034866  10653515.0   \n",
       "1  5.779394e+09        470.0              235.3         3.226990  11002910.0   \n",
       "2  5.285600e+09        310.0              231.1         3.297243  11371750.0   \n",
       "3  4.059577e+09        190.0              226.3         3.212170  11742960.0   \n",
       "4  5.039535e+09        320.0              221.5         3.037335  12105105.0   \n",
       "\n",
       "   urb_pop_growth_perc      urb_pop  \n",
       "0             6.687032  4099472.572  \n",
       "1             6.750459  4385759.926  \n",
       "2             6.700777  4689709.700  \n",
       "3             6.503667  5004849.552  \n",
       "4             6.223936  5326246.200  "
      ]
     },
     "execution_count": 3,
     "metadata": {},
     "output_type": "execute_result"
    }
   ],
   "source": [
    "# import the cleaned dataset from a csv file\n",
    "data = pd.read_csv(r'data_cleaned.csv')\n",
    "data.head()"
   ]
  },
  {
   "cell_type": "code",
   "execution_count": 4,
   "id": "bf8ade1b",
   "metadata": {
    "vscode": {
     "languageId": "markdown"
    }
   },
   "outputs": [],
   "source": [
    "# define a random state number for all random state - ensures reproducibility of all results\n",
    "random_state_num = 0"
   ]
  },
  {
   "cell_type": "code",
   "execution_count": 5,
   "id": "233b1535",
   "metadata": {
    "vscode": {
     "languageId": "markdown"
    }
   },
   "outputs": [
    {
     "name": "stdout",
     "output_type": "stream",
     "text": [
      "Shape of the dataset:\n"
     ]
    },
    {
     "data": {
      "text/plain": [
       "(1700, 18)"
      ]
     },
     "execution_count": 5,
     "metadata": {},
     "output_type": "execute_result"
    }
   ],
   "source": [
    "print(\"Shape of the dataset:\")\n",
    "data.shape"
   ]
  },
  {
   "cell_type": "code",
   "execution_count": 11,
   "id": "f8a6ef4f",
   "metadata": {
    "vscode": {
     "languageId": "markdown"
    }
   },
   "outputs": [
    {
     "name": "stdout",
     "output_type": "stream",
     "text": [
      "available columns and their data types:\n"
     ]
    },
    {
     "data": {
      "text/plain": [
       "country                 object\n",
       "year                     int64\n",
       "cereal_yield           float64\n",
       "fdi_perc_gdp           float64\n",
       "en_per_gdp             float64\n",
       "en_per_cap             float64\n",
       "co2_ttl                float64\n",
       "co2_per_cap            float64\n",
       "co2_per_gdp            float64\n",
       "pop_urb_aggl_perc      float64\n",
       "prot_area_perc         float64\n",
       "gdp                    float64\n",
       "gni_per_cap            float64\n",
       "under_5_mort_rate      float64\n",
       "pop_growth_perc        float64\n",
       "pop                    float64\n",
       "urb_pop_growth_perc    float64\n",
       "urb_pop                float64\n",
       "dtype: object"
      ]
     },
     "execution_count": 11,
     "metadata": {},
     "output_type": "execute_result"
    }
   ],
   "source": [
    "print(\"available columns and their data types:\")\n",
    "data.dtypes"
   ]
  },
  {
   "cell_type": "code",
   "execution_count": 6,
   "id": "ec6e989d",
   "metadata": {
    "vscode": {
     "languageId": "markdown"
    }
   },
   "outputs": [
    {
     "name": "stdout",
     "output_type": "stream",
     "text": [
      "Shape of the dataset after removing the ARE outliers:\n"
     ]
    },
    {
     "data": {
      "text/plain": [
       "(1686, 18)"
      ]
     },
     "execution_count": 6,
     "metadata": {},
     "output_type": "execute_result"
    }
   ],
   "source": [
    "# remove the ARE outliers\n",
    "data = data[data['country']!='ARE']\n",
    "\n",
    "# print shape after removing the outliers\n",
    "print(\"Shape of the dataset after removing the ARE outliers:\")\n",
    "data.shape"
   ]
  },
  {
   "cell_type": "code",
   "execution_count": 7,
   "id": "b53af182",
   "metadata": {
    "vscode": {
     "languageId": "markdown"
    }
   },
   "outputs": [],
   "source": [
    "# choose features and label columns\n",
    "feature_cols = ['cereal_yield','fdi_perc_gdp','gni_per_cap', 'en_per_cap',\n",
    "                'pop_urb_aggl_perc', 'prot_area_perc', 'pop_growth_perc', 'urb_pop_growth_perc']\n",
    "label_col = ['co2_per_cap']\n",
    "\n",
    "# convert into nympy arrays (required for scikit-learn models)\n",
    "features = np.array(data[feature_cols])\n",
    "labels =  np.array(data[label_col])"
   ]
  },
  {
   "cell_type": "code",
   "execution_count": 8,
   "id": "69a68b2a",
   "metadata": {
    "vscode": {
     "languageId": "markdown"
    }
   },
   "outputs": [
    {
     "data": {
      "text/plain": [
       "array([[ 417.4       ,    5.44951458,  820.        , ...,   12.39982205,\n",
       "           3.03486601,    6.68703163],\n",
       "       [ 397.        ,    4.98245985,  470.        , ...,   12.39982269,\n",
       "           3.22698986,    6.75045876],\n",
       "       [ 267.8       ,    5.71552893,  310.        , ...,   12.39982333,\n",
       "           3.29724265,    6.70077708],\n",
       "       ...,\n",
       "       [1816.1       ,    5.7538601 ,  620.        , ...,   35.98301766,\n",
       "           2.47931167,    2.8785138 ],\n",
       "       [1907.9       ,   11.47085026,  750.        , ...,   35.98301766,\n",
       "           2.56491884,    2.96253368],\n",
       "       [2144.        ,    6.41099075,  970.        , ...,   35.98301766,\n",
       "           2.65395608,    3.0499962 ]], shape=(1686, 8))"
      ]
     },
     "execution_count": 8,
     "metadata": {},
     "output_type": "execute_result"
    }
   ],
   "source": [
    "features"
   ]
  },
  {
   "cell_type": "code",
   "execution_count": 9,
   "id": "51b8ceb7",
   "metadata": {
    "vscode": {
     "languageId": "markdown"
    }
   },
   "outputs": [],
   "source": [
    "# split into training and testing subsets\n",
    "nr.seed(1)\n",
    "features_train, features_test, labels_train, labels_test = train_test_split(features,labels,\n",
    "                                                                            test_size=0.2,\n",
    "                                                                            random_state=random_state_num)\n",
    "                                                          "
   ]
  },
  {
   "cell_type": "code",
   "execution_count": 10,
   "id": "d6978803",
   "metadata": {
    "vscode": {
     "languageId": "markdown"
    }
   },
   "outputs": [
    {
     "name": "stdout",
     "output_type": "stream",
     "text": [
      "Feature ranking after RFECV:\n",
      "[1 2 1 1 1 1 1 1]\n",
      "Chosen important features:\n",
      "['cereal_yield', 'gni_per_cap', 'en_per_cap', 'pop_urb_aggl_perc', 'prot_area_perc', 'pop_growth_perc', 'urb_pop_growth_perc']\n"
     ]
    }
   ],
   "source": [
    "# Set folds for cross validation for the feature selection\n",
    "nr.seed(1)\n",
    "feature_folds = ms.KFold(n_splits=4, shuffle = True, random_state=random_state_num)\n",
    "\n",
    "# Define the model\n",
    "rf_selector = RandomForestRegressor(random_state=random_state_num)\n",
    "\n",
    "# Define an objects for a model for recursive feature elimination with CV\n",
    "nr.seed(1)\n",
    "selector = fs.RFECV(estimator = rf_selector, cv = feature_folds, scoring = 'r2', n_jobs=-1)\n",
    "\n",
    "selector = selector.fit(features_train, np.ravel(labels_train))\n",
    "\n",
    "selector.support_\n",
    "print(\"Feature ranking after RFECV:\")\n",
    "print(selector.ranking_)\n",
    "\n",
    "# print the important features\n",
    "ranks_transform = list(np.transpose(selector.ranking_))\n",
    "chosen_features = [i for i,j in zip(feature_cols,ranks_transform) if j==1]\n",
    "print(\"Chosen important features:\")\n",
    "print(chosen_features)"
   ]
  },
  {
   "cell_type": "code",
   "execution_count": 11,
   "id": "03a6c254",
   "metadata": {
    "vscode": {
     "languageId": "markdown"
    }
   },
   "outputs": [
    {
     "name": "stdout",
     "output_type": "stream",
     "text": [
      "Training subset shape before the recursive feature elimination:  (1348, 8)\n",
      "Training subset array shape after the recursive feature elimination:  (1348, 7)\n",
      "Test subset array shape after the recursive feature elimination:  (338, 7)\n"
     ]
    }
   ],
   "source": [
    "# Reduce features\n",
    "features_train_reduced = selector.transform(features_train)\n",
    "features_test_reduced = selector.transform(features_test)\n",
    "\n",
    "print(\"Training subset shape before the recursive feature elimination: \",features_train.shape)\n",
    "print(\"Training subset array shape after the recursive feature elimination: \", features_train_reduced.shape)\n",
    "print(\"Test subset array shape after the recursive feature elimination: \",features_test_reduced.shape)"
   ]
  },
  {
   "cell_type": "code",
   "execution_count": 12,
   "id": "addbb84d",
   "metadata": {
    "vscode": {
     "languageId": "markdown"
    }
   },
   "outputs": [],
   "source": [
    "# Define value ranges for each hyperparameter\n",
    "n_estimators = [int(x) for x in np.linspace(start = 200, stop = 2000, num = 10)]\n",
    "\n",
    "# Keep the rest unchanged\n",
    "max_depth = [int(x) for x in np.linspace(10, 110, num=11)]\n",
    "max_depth.append(None)\n",
    "\n",
    "# Create the hyperparameter grid\n",
    "param_grid = {\n",
    "    'n_estimators': n_estimators,\n",
    "    'max_features': ['sqrt', 'log2', None] ,\n",
    "    'max_depth': max_depth,\n",
    "    'min_samples_split': [2, 5, 10],\n",
    "    'min_samples_leaf': [1, 2, 4]\n",
    "}"
   ]
  },
  {
   "cell_type": "code",
   "execution_count": 13,
   "id": "11f3a49d",
   "metadata": {
    "vscode": {
     "languageId": "markdown"
    }
   },
   "outputs": [],
   "source": [
    "# define the cross-validation folds for the hyperparameter tuning\n",
    "nr.seed(1)\n",
    "inside_folds = ms.KFold(n_splits=5, shuffle = True, random_state=random_state_num)\n",
    "\n",
    "# Define the random forest regressor model object\n",
    "rf_tuner = RandomForestRegressor(random_state=random_state_num)\n",
    "\n",
    "# Perform a randomized search on the grid\n",
    "nr.seed(1)\n",
    "rf_model = ms.RandomizedSearchCV(estimator=rf_tuner, param_distributions = param_grid,\n",
    "                                 random_state=random_state_num, refit=True,\n",
    "                                 cv=inside_folds, scoring = 'r2', return_train_score=True, n_jobs=-1)"
   ]
  },
  {
   "cell_type": "code",
   "execution_count": 14,
   "id": "3edfe0c7",
   "metadata": {
    "vscode": {
     "languageId": "markdown"
    }
   },
   "outputs": [
    {
     "name": "stdout",
     "output_type": "stream",
     "text": [
      "Best Parameters: {'n_estimators': 800, 'min_samples_split': 5, 'min_samples_leaf': 2, 'max_features': None, 'max_depth': 30}\n"
     ]
    }
   ],
   "source": [
    "# Fit the grid search model object with cross-validation on the data\n",
    "rf_model.fit(features_train_reduced, np.ravel(labels_train))\n",
    "\n",
    "# Corrected variable name\n",
    "print(\"Best Parameters:\", rf_model.best_params_)"
   ]
  },
  {
   "cell_type": "code",
   "execution_count": 15,
   "id": "93c7e875",
   "metadata": {
    "vscode": {
     "languageId": "markdown"
    }
   },
   "outputs": [],
   "source": [
    "# pick the model with the best hyperparameter combination for further analysis\n",
    "rf_best_model = rf_model.best_estimator_"
   ]
  },
  {
   "cell_type": "code",
   "execution_count": 16,
   "id": "018e7202",
   "metadata": {
    "vscode": {
     "languageId": "markdown"
    }
   },
   "outputs": [
    {
     "name": "stdout",
     "output_type": "stream",
     "text": [
      "Mean R2 score of all CV folds = 0.986\n",
      "Standard deviation of the R2 score over all folds = 0.003\n",
      "R2 score for each fold:\n",
      "Fold  1    0.990\n",
      "Fold  2    0.990\n",
      "Fold  3    0.989\n",
      "Fold  4    0.985\n",
      "Fold  5    0.980\n",
      "Fold  6    0.984\n",
      "Fold  7    0.986\n",
      "Fold  8    0.987\n",
      "Fold  9    0.986\n",
      "Fold 10    0.984\n"
     ]
    }
   ],
   "source": [
    "# define the cross-validation folds for the evaluation\n",
    "nr.seed(1)\n",
    "outside_folds = ms.KFold(n_splits=10, shuffle = True, random_state=random_state_num)\n",
    "\n",
    "# Evaluate the model on the training subset with cross-validation\n",
    "nr.seed(1)\n",
    "cv_eval = cross_val_score(rf_best_model, features_train_reduced, labels_train, cv = outside_folds, n_jobs=-1)\n",
    "\n",
    "print('Mean R2 score of all CV folds = %4.3f' % np.mean(cv_eval))\n",
    "print('Standard deviation of the R2 score over all folds = %4.3f' % np.std(cv_eval))\n",
    "print('R2 score for each fold:')\n",
    "\n",
    "# print the R2 score for each fold\n",
    "for i, j in enumerate(cv_eval):\n",
    "    print('Fold %2d    %4.3f' % (i+1, j))"
   ]
  },
  {
   "cell_type": "code",
   "execution_count": 17,
   "id": "fd7c1eb7",
   "metadata": {
    "vscode": {
     "languageId": "markdown"
    }
   },
   "outputs": [
    {
     "name": "stdout",
     "output_type": "stream",
     "text": [
      "R2 = 0.9858363709498787, Mean Squared Error (MSE) = 0.2724067177964901, Root Mean Squared Error (RMSE) = 0.5219259696513386\n"
     ]
    }
   ],
   "source": [
    "# make predictions from the features of the testing subset\n",
    "predictions = rf_best_model.predict(features_test_reduced)\n",
    "\n",
    "# calculate the metrics basing on the predicted and true values for the test subset\n",
    "r2 = r2_score(y_true=labels_test, y_pred=predictions)\n",
    "mse = mean_squared_error(y_true=labels_test, y_pred=predictions)\n",
    "rmse = np.sqrt(mse)\n",
    "\n",
    "print(f\"R2 = {r2}, Mean Squared Error (MSE) = {mse}, Root Mean Squared Error (RMSE) = {rmse}\")\n"
   ]
  },
  {
   "cell_type": "code",
   "execution_count": 18,
   "id": "b69ef763",
   "metadata": {
    "vscode": {
     "languageId": "markdown"
    }
   },
   "outputs": [
    {
     "data": {
      "image/png": "[encoded data removed]",
      "text/plain": [
       "<Figure size 1440x1080 with 1 Axes>"
      ]
     },
     "metadata": {
      "needs_background": "light"
     },
     "output_type": "display_data"
    }
   ],
   "source": [
    "import seaborn as sns\n",
    "# plot predicted vs true values of the test subset\n",
    "\n",
    "f,ax=plt.subplots(figsize=(20,15))\n",
    "sns.set_theme(font_scale=2)\n",
    "\n",
    "sns.regplot(x=predictions, y=np.transpose(labels_test)[0,:], fit_reg=True)\n",
    "plt.xlabel(\"CO2 emissions per capita [t] - predicted\")\n",
    "plt.ylabel(\"CO2 emissions per capita [t] - true\")\n",
    "plt.title(\"Correlation coefficient R=\"+str(round(np.corrcoef(predictions,np.transpose(labels_test)[0,:])[0,1],2)))\n",
    "plt.show()"
   ]
  },
  {
   "cell_type": "code",
   "execution_count": 19,
   "id": "5e0305f5",
   "metadata": {
    "vscode": {
     "languageId": "markdown"
    }
   },
   "outputs": [
    {
     "name": "stdout",
     "output_type": "stream",
     "text": [
      "Model saved to 'forecasting_co2_emmision.pkl\n"
     ]
    }
   ],
   "source": [
    "import joblib\n",
    "\n",
    "# Save the trained model to file\n",
    "joblib.dump(rf_best_model, 'forecasting_co2_emmision.pkl')\n",
    "print(\"Model saved to 'forecasting_co2_emmision.pkl\")"
   ]
  },
  {
   "cell_type": "code",
   "execution_count": 20,
   "id": "f548bf00",
   "metadata": {
    "vscode": {
     "languageId": "markdown"
    }
   },
   "outputs": [
    {
     "name": "stdout",
     "output_type": "stream",
     "text": [
      "📂 Model loaded successfully.\n"
     ]
    }
   ],
   "source": [
    "# Load model from file\n",
    "loaded_model = joblib.load('forecasting_co2_emmision.pkl')\n",
    "print(\"📂 Model loaded successfully.\")"
   ]
  },
  {
   "cell_type": "code",
   "execution_count": 21,
   "id": "6b019ea1",
   "metadata": {
    "vscode": {
     "languageId": "markdown"
    }
   },
   "outputs": [],
   "source": [
    "# List of selected features\n",
    "selected_features = ['cereal_yield', 'gni_per_cap', 'en_per_cap',\n",
    "                     'pop_urb_aggl_perc', 'prot_area_perc',\n",
    "                     'pop_growth_perc', 'urb_pop_growth_perc']"
   ]
  },
  {
   "cell_type": "code",
   "execution_count": 22,
   "id": "a472f9ef",
   "metadata": {
    "vscode": {
     "languageId": "markdown"
    }
   },
   "outputs": [],
   "source": [
    "selected_countries = ['IND', 'USA', 'PAK', 'RUS', 'NZL']\n",
    "\n",
    "# Filter the dataset to include only the selected countries\n",
    "df_filtered = data[data['country'].isin(selected_countries)]\n",
    "\n",
    "# Dictionary to store the growth rates for each country\n",
    "growth_rates = {}\n",
    "\n",
    "# Loop over each selected country\n",
    "for country in selected_countries:\n",
    "    # Get data for the current country and sort it by year\n",
    "    country_data = data[(data['country'] == country)].sort_values('year')\n",
    "\n",
    "    # Identify the start and end year for the country\n",
    "    start_year = country_data['year'].min()\n",
    "    end_year = country_data['year'].max()\n",
    "    years = end_year - start_year  # Total number of years between start and end\n",
    "\n",
    "    # Dictionary to store growth rates of all features for the current country\n",
    "    country_growth = {}\n",
    "\n",
    "    # Skip this country if the time span is not valid (e.g., only one year of data)\n",
    "    if years <= 0:\n",
    "        print(f\"Skipping {country} due to insufficient year range.\")\n",
    "        continue\n",
    "\n",
    "    # Loop through each selected feature\n",
    "    for feature in selected_features:\n",
    "        # Get the feature value in the start year\n",
    "        start_value = country_data[country_data['year'] == start_year][feature].values\n",
    "        # Get the feature value in the end year\n",
    "        end_value = country_data[country_data['year'] == end_year][feature].values\n",
    "\n",
    "        # Skip if either value is missing\n",
    "        if len(start_value) == 0 or len(end_value) == 0:\n",
    "            continue\n",
    "\n",
    "        # Extract scalar values from arrays\n",
    "        start_value = start_value[0]\n",
    "        end_value = end_value[0]\n",
    "\n",
    "        # Skip if values are non-positive or not finite (e.g., NaN, inf)\n",
    "        if start_value <= 0 or end_value <= 0 or not np.isfinite(start_value) or not np.isfinite(end_value):\n",
    "            continue\n",
    "\n",
    "        # Compute the Compound Annual Growth Rate (CAGR)\n",
    "        cagr = (end_value / start_value) ** (1 / years) - 1\n",
    "        # Store the result in the country-specific dictionary\n",
    "        country_growth[feature] = cagr\n",
    "\n",
    "    # Save the growth rates of all features for the current country\n",
    "    growth_rates[country] = country_growth"
   ]
  },
  {
   "cell_type": "code",
   "execution_count": 23,
   "id": "2f357332",
   "metadata": {
    "vscode": {
     "languageId": "markdown"
    }
   },
   "outputs": [
    {
     "name": "stdout",
     "output_type": "stream",
     "text": [
      "\n",
      "Growth Rates (CAGR) from 1991 to 2008:\n",
      "\n",
      "IND\n",
      "  • cereal_yield: +1.94%\n",
      "  • gni_per_cap: +6.85%\n",
      "  • en_per_cap: +2.12%\n",
      "  • pop_urb_aggl_perc: +1.26%\n",
      "  • prot_area_perc: +0.35%\n",
      "  • pop_growth_perc: −2.28%\n",
      "  • urb_pop_growth_perc: −1.26%\n",
      "\n",
      "USA\n",
      "  • cereal_yield: +2.28%\n",
      "  • gni_per_cap: +4.26%\n",
      "  • en_per_cap: −0.12%\n",
      "  • pop_urb_aggl_perc: +0.40%\n",
      "  • prot_area_perc: +0.01%\n",
      "  • pop_growth_perc: −2.16%\n",
      "  • urb_pop_growth_perc: −2.15%\n",
      "\n",
      "PAK\n",
      "  • cereal_yield: +2.29%\n",
      "  • gni_per_cap: +5.00%\n",
      "  • en_per_cap: +1.50%\n",
      "  • pop_urb_aggl_perc: +0.84%\n",
      "  • prot_area_perc: +0.01%\n",
      "  • pop_growth_perc: −2.46%\n",
      "  • urb_pop_growth_perc: −1.01%\n",
      "\n",
      "RUS\n",
      "  • cereal_yield: +1.99%\n",
      "  • gni_per_cap: +7.41%\n",
      "  • en_per_cap: −0.61%\n",
      "  • pop_urb_aggl_perc: +0.48%\n",
      "  • prot_area_perc: +0.46%\n",
      "\n",
      "NZL\n",
      "  • cereal_yield: +1.96%\n",
      "  • gni_per_cap: +5.00%\n",
      "  • en_per_cap: +0.39%\n",
      "  • pop_urb_aggl_perc: +1.15%\n",
      "  • prot_area_perc: +0.17%\n",
      "  • pop_growth_perc: −2.04%\n",
      "  • urb_pop_growth_perc: −1.83%\n",
      "\n"
     ]
    }
   ],
   "source": [
    "# Display the calculated growth rates in a readable format\n",
    "print(\"\\nGrowth Rates (CAGR) from {} to {}:\\n\".format(start_year, end_year))\n",
    "\n",
    "# Loop through each country and its corresponding growth rate dictionary\n",
    "for country, features in growth_rates.items():\n",
    "    print(f\"{country}\")  # Print the country name with an icon\n",
    "\n",
    "    # Loop through each feature and its CAGR value\n",
    "    for feature, rate in features.items():\n",
    "        # Determine whether to display a plus or minus sign\n",
    "        sign = '+' if rate >= 0 else '−'\n",
    "\n",
    "        # Print the feature name and its growth rate percentage (formatted to two decimal places)\n",
    "        print(f\"  • {feature}: {sign}{abs(rate * 100):.2f}%\")\n",
    "\n",
    "    # Add a line break between countries for readability\n",
    "    print()"
   ]
  },
  {
   "cell_type": "code",
   "execution_count": 24,
   "id": "7c26661c",
   "metadata": {
    "vscode": {
     "languageId": "markdown"
    }
   },
   "outputs": [],
   "source": [
    "# Define the range of years to forecast (next 20 years beyond the last available year)\n",
    "last_year = data['year'].max()\n",
    "future_years = list(range(last_year + 1, last_year + 21))"
   ]
  },
  {
   "cell_type": "code",
   "execution_count": 25,
   "id": "568d56e2",
   "metadata": {
    "vscode": {
     "languageId": "markdown"
    }
   },
   "outputs": [],
   "source": [
    "# Initialize a list to store forecasted results\n",
    "forecast_results = []\n",
    "\n",
    "# Loop through each selected country for prediction\n",
    "for country in selected_countries:\n",
    "    country_data = data[(data['country'] == country)].sort_values('year')\n",
    "\n",
    "    # Skip countries with missing feature values\n",
    "    if country_data[selected_features].dropna().empty:\n",
    "        print(f\"Skipping {country} due to missing values.\")\n",
    "        continue\n",
    "\n",
    "    # Take the latest complete record (most recent year) for the country\n",
    "    latest_row = country_data[selected_features].dropna().iloc[-1].copy()\n",
    "\n",
    "    # Forecast for each year into the future\n",
    "    for year in future_years:\n",
    "        # Apply the previously calculated CAGR to each feature\n",
    "        for feature in selected_features:\n",
    "            growth_rate = growth_rates.get(country, {}).get(feature, 0.0)\n",
    "            latest_row[feature] *= (1 + growth_rate)\n",
    "\n",
    "        # Use trained model to predict CO₂ emissions per capita\n",
    "        input_features = latest_row.values.reshape(1, -1)\n",
    "        predicted_co2 = loaded_model.predict(input_features)[0]\n",
    "\n",
    "        # Store the forecast result\n",
    "        forecast_results.append({\n",
    "            'country': country,\n",
    "            'year': year,\n",
    "            'co2_percap': predicted_co2\n",
    "        })"
   ]
  },
  {
   "cell_type": "code",
   "execution_count": 26,
   "id": "13ae7fc8",
   "metadata": {
    "vscode": {
     "languageId": "markdown"
    }
   },
   "outputs": [
    {
     "name": "stdout",
     "output_type": "stream",
     "text": [
      "📈 Forecasted CO₂ Emissions per Capita (Next 20 Years)\n"
     ]
    },
    {
     "name": "stderr",
     "output_type": "stream",
     "text": [
      "C:\\Users\\SANTPAL\\AppData\\Local\\Temp\\ipykernel_6788\\4163859294.py:13: UserWarning: Glyph 8322 (\\N{SUBSCRIPT TWO}) missing from font(s) Arial.\n",
      "  plt.tight_layout()\n",
      "C:\\Users\\SANTPAL\\AppData\\Roaming\\Python\\Python310\\site-packages\\IPython\\core\\pylabtools.py:151: UserWarning: Glyph 8322 (\\N{SUBSCRIPT TWO}) missing from font(s) Arial.\n",
      "  fig.canvas.print_figure(bytes_io, **kw)\n"
     ]
    },
    {
     "data": {
      "image/png": "[encoded data removed]",
      "text/plain": [
       "<Figure size 864x432 with 1 Axes>"
      ]
     },
     "metadata": {},
     "output_type": "display_data"
    },
    {
     "name": "stdout",
     "output_type": "stream",
     "text": [
      "\n",
      "📊 Forecasted CO₂ per Capita for Last 5 Years in Forecast Period (India):\n",
      "\n",
      "   country  year  co2_percap\n",
      "15     IND  2024    1.538156\n",
      "16     IND  2025    1.564411\n",
      "17     IND  2026    1.586332\n",
      "18     IND  2027    1.717992\n",
      "19     IND  2028    2.084860\n"
     ]
    }
   ],
   "source": [
    "# Convert the list of predictions into a DataFrame\n",
    "df_forecast = pd.DataFrame(forecast_results)\n",
    "\n",
    "# Plot forecasted CO₂ per capita for all countries over the next 20 years\n",
    "print('📈 Forecasted CO₂ Emissions per Capita (Next 20 Years)')\n",
    "plt.figure(figsize=(12, 6))\n",
    "sns.lineplot(data=df_forecast, x='year', y='co2_percap', hue='country', marker='o')\n",
    "plt.title('Forecasted CO₂ Emissions per Capita (Next 20 Years)', fontsize=14)\n",
    "plt.xlabel('Year', fontsize=12)\n",
    "plt.ylabel('CO₂ per Capita (metric tons)', fontsize=12)\n",
    "plt.xticks(rotation=45, ha='right')\n",
    "plt.grid(True)\n",
    "plt.tight_layout()\n",
    "plt.show()\n",
    "\n",
    "# Print the forecast values for the last 5 years for India\n",
    "print(\"\\n📊 Forecasted CO₂ per Capita for Last 5 Years in Forecast Period (India):\\n\")\n",
    "print(df_forecast[df_forecast['country'] == 'IND'].sort_values(by='year').tail(5))"
   ]
  },
  {
   "cell_type": "code",
   "execution_count": null,
   "id": "99113cb3",
   "metadata": {
    "vscode": {
     "languageId": "markdown"
    }
   },
   "outputs": [],
   "source": []
  }
 ],
 "metadata": {
  "kernelspec": {
   "display_name": "Python 3",
   "language": "python",
   "name": "python3"
  },
  "language_info": {
   "codemirror_mode": {
    "name": "ipython",
    "version": 3
   },
   "file_extension": ".py",
   "mimetype": "text/x-python",
   "name": "python",
   "nbconvert_exporter": "python",
   "pygments_lexer": "ipython3",
   "version": "3.10.4"
  }
 },
 "nbformat": 4,
 "nbformat_minor": 5
}
